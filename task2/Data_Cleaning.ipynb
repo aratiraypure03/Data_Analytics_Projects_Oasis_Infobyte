{
 "cells": [
  {
   "cell_type": "markdown",
   "metadata": {},
   "source": [
    "Data Cleaning Project: NYC Airbnb Open Data\n",
    "\n",
    "Data cleaning is a critical part of the data analysis pipeline. This notebook will guide you through cleaning the NYC Airbnb dataset, addressing missing values, duplicates, inconsistencies, and outliers.\n"
   ]
  },
  {
   "cell_type": "code",
   "execution_count": 2,
   "metadata": {},
   "outputs": [],
   "source": [
    "# Importing necessary libraries\n",
    "import pandas as pd\n",
    "import numpy as np"
   ]
  },
  {
   "cell_type": "markdown",
   "metadata": {},
   "source": [
    "Load the Dataset\n",
    "\n",
    "We'll load the dataset and inspect its structure. Ensure you have downloaded the dataset from [NYC Airbnb Open Data](https://www.kaggle.com/datasets/dgomonov/new-york-city-airbnb-open-data)."
   ]
  },
  {
   "cell_type": "code",
   "execution_count": 8,
   "metadata": {},
   "outputs": [],
   "source": [
    "# Load the dataset\n",
    "file_path = r\"task2\\AB_NYC_2019.csv\"  # Replace with your local path or use Kaggle API to download\n",
    "data = pd.read_csv(file_path)\n"
   ]
  },
  {
   "cell_type": "code",
   "execution_count": 9,
   "metadata": {},
   "outputs": [
    {
     "name": "stdout",
     "output_type": "stream",
     "text": [
      "Initial Dataset Information:\n",
      "<class 'pandas.core.frame.DataFrame'>\n",
      "RangeIndex: 48895 entries, 0 to 48894\n",
      "Data columns (total 16 columns):\n",
      " #   Column                          Non-Null Count  Dtype  \n",
      "---  ------                          --------------  -----  \n",
      " 0   id                              48895 non-null  int64  \n",
      " 1   name                            48879 non-null  object \n",
      " 2   host_id                         48895 non-null  int64  \n",
      " 3   host_name                       48874 non-null  object \n",
      " 4   neighbourhood_group             48895 non-null  object \n",
      " 5   neighbourhood                   48895 non-null  object \n",
      " 6   latitude                        48895 non-null  float64\n",
      " 7   longitude                       48895 non-null  float64\n",
      " 8   room_type                       48895 non-null  object \n",
      " 9   price                           48895 non-null  int64  \n",
      " 10  minimum_nights                  48895 non-null  int64  \n",
      " 11  number_of_reviews               48895 non-null  int64  \n",
      " 12  last_review                     38843 non-null  object \n",
      " 13  reviews_per_month               38843 non-null  float64\n",
      " 14  calculated_host_listings_count  48895 non-null  int64  \n",
      " 15  availability_365                48895 non-null  int64  \n",
      "dtypes: float64(3), int64(7), object(6)\n",
      "memory usage: 6.0+ MB\n",
      "None\n"
     ]
    }
   ],
   "source": [
    "# Display initial dataset information\n",
    "print(\"Initial Dataset Information:\")\n",
    "print(data.info())"
   ]
  },
  {
   "cell_type": "code",
   "execution_count": 11,
   "metadata": {},
   "outputs": [
    {
     "name": "stdout",
     "output_type": "stream",
     "text": [
      "\n",
      "Missing Values:\n",
      " id                                    0\n",
      "name                                 16\n",
      "host_id                               0\n",
      "host_name                            21\n",
      "neighbourhood_group                   0\n",
      "neighbourhood                         0\n",
      "latitude                              0\n",
      "longitude                             0\n",
      "room_type                             0\n",
      "price                                 0\n",
      "minimum_nights                        0\n",
      "number_of_reviews                     0\n",
      "last_review                       10052\n",
      "reviews_per_month                 10052\n",
      "calculated_host_listings_count        0\n",
      "availability_365                      0\n",
      "dtype: int64\n"
     ]
    }
   ],
   "source": [
    "print(\"\\nMissing Values:\\n\", data.isnull().sum())"
   ]
  },
  {
   "cell_type": "markdown",
   "metadata": {},
   "source": [
    "Handle Missing Values\n",
    "\n",
    "We will:\n",
    "- Fill missing values in the `reviews_per_month` column with 0.\n",
    "- Drop rows with missing values in the `name` and `host_name` columns as these are critical fields."
   ]
  },
  {
   "cell_type": "code",
   "execution_count": 12,
   "metadata": {},
   "outputs": [
    {
     "name": "stderr",
     "output_type": "stream",
     "text": [
      "C:\\Users\\admin\\AppData\\Local\\Temp\\ipykernel_4172\\1433176631.py:2: FutureWarning: A value is trying to be set on a copy of a DataFrame or Series through chained assignment using an inplace method.\n",
      "The behavior will change in pandas 3.0. This inplace method will never work because the intermediate object on which we are setting values always behaves as a copy.\n",
      "\n",
      "For example, when doing 'df[col].method(value, inplace=True)', try using 'df.method({col: value}, inplace=True)' or df[col] = df[col].method(value) instead, to perform the operation inplace on the original object.\n",
      "\n",
      "\n",
      "  data['reviews_per_month'].fillna(0, inplace=True)\n"
     ]
    }
   ],
   "source": [
    "# Handle missing values\n",
    "data['reviews_per_month'].fillna(0, inplace=True)\n",
    "data.dropna(subset=['name', 'host_name'], inplace=True)"
   ]
  },
  {
   "cell_type": "markdown",
   "metadata": {},
   "source": [
    "Remove Duplicate Rows\n",
    "\n",
    "Remove duplicate entries to ensure the uniqueness and integrity of the data."
   ]
  },
  {
   "cell_type": "code",
   "execution_count": 13,
   "metadata": {},
   "outputs": [],
   "source": [
    "# Remove duplicate rows\n",
    "data = data.drop_duplicates()"
   ]
  },
  {
   "cell_type": "markdown",
   "metadata": {},
   "source": [
    "\n",
    "Standardize Data Formats\n",
    "\n",
    "Standardize string columns by converting all text to lowercase for consistency.\n",
    "python"
   ]
  },
  {
   "cell_type": "code",
   "execution_count": 14,
   "metadata": {},
   "outputs": [],
   "source": [
    "# Converting all string columns to lowercase for consistency\n",
    "string_columns = data.select_dtypes(include='object').columns\n",
    "data[string_columns] = data[string_columns].apply(lambda x: x.str.lower())"
   ]
  },
  {
   "cell_type": "markdown",
   "metadata": {},
   "source": [
    "Detect and Handle Outliers\n",
    "\n",
    "Outliers in the `price` column can skew the analysis. We'll use the Interquartile Range (IQR) method to identify and remove these outliers."
   ]
  },
  {
   "cell_type": "code",
   "execution_count": 15,
   "metadata": {},
   "outputs": [],
   "source": [
    "# Detecting outliers in the 'price' column\n",
    "Q1 = data['price'].quantile(0.25)\n",
    "Q3 = data['price'].quantile(0.75)\n",
    "IQR = Q3 - Q1\n",
    "lower_bound = Q1 - 1.5 * IQR\n",
    "upper_bound = Q3 + 1.5 * IQR\n",
    "\n",
    "# Remove rows with price outliers\n",
    "data = data[(data['price'] >= lower_bound) & (data['price'] <= upper_bound)]"
   ]
  },
  {
   "cell_type": "markdown",
   "metadata": {},
   "source": [
    "Optimize Data Types\n",
    "\n",
    "Convert data types for better memory usage and computational efficiency."
   ]
  },
  {
   "cell_type": "code",
   "execution_count": 17,
   "metadata": {},
   "outputs": [],
   "source": [
    "# Data type conversions for efficiency\n",
    "data['last_review'] = pd.to_datetime(data['last_review'], errors='coerce')  # Convert to datetime\n",
    "data['id'] = data['id'].astype(int)  # Ensure 'id' is integer"
   ]
  },
  {
   "cell_type": "markdown",
   "metadata": {},
   "source": [
    "Review Cleaned Data\n",
    "\n",
    "Inspect the cleaned dataset and check for any remaining issues."
   ]
  },
  {
   "cell_type": "code",
   "execution_count": 18,
   "metadata": {},
   "outputs": [
    {
     "name": "stdout",
     "output_type": "stream",
     "text": [
      "\n",
      "Cleaned Dataset Information:\n",
      "<class 'pandas.core.frame.DataFrame'>\n",
      "Index: 45887 entries, 0 to 48894\n",
      "Data columns (total 16 columns):\n",
      " #   Column                          Non-Null Count  Dtype         \n",
      "---  ------                          --------------  -----         \n",
      " 0   id                              45887 non-null  int64         \n",
      " 1   name                            45887 non-null  object        \n",
      " 2   host_id                         45887 non-null  int64         \n",
      " 3   host_name                       45887 non-null  object        \n",
      " 4   neighbourhood_group             45887 non-null  object        \n",
      " 5   neighbourhood                   45887 non-null  object        \n",
      " 6   latitude                        45887 non-null  float64       \n",
      " 7   longitude                       45887 non-null  float64       \n",
      " 8   room_type                       45887 non-null  object        \n",
      " 9   price                           45887 non-null  int64         \n",
      " 10  minimum_nights                  45887 non-null  int64         \n",
      " 11  number_of_reviews               45887 non-null  int64         \n",
      " 12  last_review                     36889 non-null  datetime64[ns]\n",
      " 13  reviews_per_month               45887 non-null  float64       \n",
      " 14  calculated_host_listings_count  45887 non-null  int64         \n",
      " 15  availability_365                45887 non-null  int64         \n",
      "dtypes: datetime64[ns](1), float64(3), int64(7), object(5)\n",
      "memory usage: 6.0+ MB\n",
      "None\n",
      "\n",
      "Missing Values After Cleaning:\n",
      " id                                   0\n",
      "name                                 0\n",
      "host_id                              0\n",
      "host_name                            0\n",
      "neighbourhood_group                  0\n",
      "neighbourhood                        0\n",
      "latitude                             0\n",
      "longitude                            0\n",
      "room_type                            0\n",
      "price                                0\n",
      "minimum_nights                       0\n",
      "number_of_reviews                    0\n",
      "last_review                       8998\n",
      "reviews_per_month                    0\n",
      "calculated_host_listings_count       0\n",
      "availability_365                     0\n",
      "dtype: int64\n"
     ]
    }
   ],
   "source": [
    "# Final dataset summary\n",
    "print(\"\\nCleaned Dataset Information:\")\n",
    "print(data.info())\n",
    "print(\"\\nMissing Values After Cleaning:\\n\", data.isnull().sum())"
   ]
  },
  {
   "cell_type": "markdown",
   "metadata": {},
   "source": [
    "Save Cleaned Dataset\n",
    "\n",
    "Save the cleaned dataset for further analysis or model building."
   ]
  },
  {
   "cell_type": "code",
   "execution_count": 20,
   "metadata": {},
   "outputs": [
    {
     "name": "stdout",
     "output_type": "stream",
     "text": [
      "\n",
      "Cleaned data saved to task2\\cleaned_data.csv\n"
     ]
    }
   ],
   "source": [
    "# Export cleaned dataset\n",
    "cleaned_file_path = r\"task2\\cleaned_data.csv\"\n",
    "data.to_csv(cleaned_file_path, index=False)\n",
    "print(f\"\\nCleaned data saved to {cleaned_file_path}\")"
   ]
  },
  {
   "cell_type": "markdown",
   "metadata": {},
   "source": [
    "Conclusion\n",
    "\n",
    "We have successfully cleaned the NYC Airbnb dataset by:\n",
    "1. Handling missing values.\n",
    "2. Removing duplicates.\n",
    "3. Standardizing data formats.\n",
    "4. Detecting and addressing outliers.\n",
    "5. Optimizing data types.\n",
    "\n",
    "The cleaned data is saved as `cleaned_airbnb_data.csv` for future use"
   ]
  }
 ],
 "metadata": {
  "kernelspec": {
   "display_name": "Python 3",
   "language": "python",
   "name": "python3"
  },
  "language_info": {
   "codemirror_mode": {
    "name": "ipython",
    "version": 3
   },
   "file_extension": ".py",
   "mimetype": "text/x-python",
   "name": "python",
   "nbconvert_exporter": "python",
   "pygments_lexer": "ipython3",
   "version": "3.12.4"
  }
 },
 "nbformat": 4,
 "nbformat_minor": 2
}
